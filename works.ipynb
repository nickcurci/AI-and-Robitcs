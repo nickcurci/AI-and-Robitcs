{
 "cells": [
  {
   "cell_type": "code",
   "execution_count": 19,
   "metadata": {},
   "outputs": [
    {
     "ename": "ModuleNotFoundError",
     "evalue": "No module named 'Robot373'",
     "output_type": "error",
     "traceback": [
      "\u001b[1;31m---------------------------------------------------------------------------\u001b[0m",
      "\u001b[1;31mModuleNotFoundError\u001b[0m                       Traceback (most recent call last)",
      "\u001b[1;32m<ipython-input-19-32072d20bc71>\u001b[0m in \u001b[0;36m<module>\u001b[1;34m\u001b[0m\n\u001b[0;32m      3\u001b[0m \u001b[1;32mfrom\u001b[0m \u001b[0mGame\u001b[0m\u001b[1;33m.\u001b[0m\u001b[0mminimax\u001b[0m \u001b[1;32mimport\u001b[0m \u001b[1;33m*\u001b[0m\u001b[1;33m\u001b[0m\u001b[1;33m\u001b[0m\u001b[0m\n\u001b[0;32m      4\u001b[0m \u001b[1;32mimport\u001b[0m \u001b[0mmatplotlib\u001b[0m\u001b[1;33m\u001b[0m\u001b[1;33m\u001b[0m\u001b[0m\n\u001b[1;32m----> 5\u001b[1;33m \u001b[1;32mfrom\u001b[0m \u001b[0mRobot373\u001b[0m \u001b[1;32mimport\u001b[0m \u001b[1;33m*\u001b[0m\u001b[1;33m\u001b[0m\u001b[1;33m\u001b[0m\u001b[0m\n\u001b[0m\u001b[0;32m      6\u001b[0m \u001b[0mwheel\u001b[0m\u001b[1;33m=\u001b[0m\u001b[0mMotors\u001b[0m\u001b[1;33m(\u001b[0m\u001b[1;34m\"a\"\u001b[0m\u001b[1;33m)\u001b[0m\u001b[1;33m\u001b[0m\u001b[1;33m\u001b[0m\u001b[0m\n\u001b[0;32m      7\u001b[0m \u001b[0mtracks\u001b[0m\u001b[1;33m=\u001b[0m\u001b[0mMotors\u001b[0m\u001b[1;33m(\u001b[0m\u001b[1;34m\"b\"\u001b[0m\u001b[1;33m)\u001b[0m\u001b[1;33m\u001b[0m\u001b[1;33m\u001b[0m\u001b[0m\n",
      "\u001b[1;31mModuleNotFoundError\u001b[0m: No module named 'Robot373'"
     ]
    }
   ],
   "source": [
    "#import the game and minimax\n",
    "from Game import *\n",
    "from Game.minimax import *\n",
    "import matplotlib \n",
    "from Robot373 import * \n",
    "wheel=Motors(\"a\")\n",
    "tracks=Motors(\"b\")"
   ]
  },
  {
   "cell_type": "code",
   "execution_count": null,
   "metadata": {},
   "outputs": [],
   "source": [
    "pwd"
   ]
  },
  {
   "cell_type": "code",
   "execution_count": 3,
   "metadata": {},
   "outputs": [],
   "source": [
    "#Create the board\n",
    "def initial_state():\n",
    "    state = Board(5,5)\n",
    "    return state"
   ]
  },
  {
   "cell_type": "code",
   "execution_count": 4,
   "metadata": {},
   "outputs": [
    {
     "data": {
      "text/plain": [
       " 0  0  0  0  0 \n",
       " 0  0  0  0  0 \n",
       " 0  0  0  0  0 \n",
       " 0  0  0  0  0 \n",
       " 0  0  0  0  0 "
      ]
     },
     "execution_count": 4,
     "metadata": {},
     "output_type": "execute_result"
    }
   ],
   "source": [
    "#test the board\n",
    "initial_state()"
   ]
  },
  {
   "cell_type": "code",
   "execution_count": 5,
   "metadata": {},
   "outputs": [],
   "source": [
    "#define what a valid move is\n",
    "def valid_moves(board,player):\n",
    "\n",
    "    empty=[]\n",
    "    for i in range(5):\n",
    "        if board[i]==0:\n",
    "            empty.append(i)\n",
    "\n",
    "    return empty\n",
    "    \n",
    "    "
   ]
  },
  {
   "cell_type": "code",
   "execution_count": 6,
   "metadata": {},
   "outputs": [
    {
     "data": {
      "text/plain": [
       " 0  0  0  0  0 \n",
       " 0  0  0  0  0 \n",
       " 0  0  0  0  0 \n",
       " 0  0  0  0  1 \n",
       " 0  0  0  0  0 "
      ]
     },
     "execution_count": 6,
     "metadata": {},
     "output_type": "execute_result"
    }
   ],
   "source": [
    "#test updating the state\n",
    "state=initial_state()\n",
    "state[19]=1\n",
    "state"
   ]
  },
  {
   "cell_type": "code",
   "execution_count": 7,
   "metadata": {},
   "outputs": [
    {
     "data": {
      "text/plain": [
       "[0, 1, 2, 3, 4]"
      ]
     },
     "execution_count": 7,
     "metadata": {},
     "output_type": "execute_result"
    }
   ],
   "source": [
    "#test what valid moves remain (which columns)\n",
    "valid_moves(state,1)"
   ]
  },
  {
   "cell_type": "code",
   "execution_count": 8,
   "metadata": {},
   "outputs": [],
   "source": [
    "#checks to see if there are 4 in a row\n",
    "def check_four_in_a_row(row):\n",
    "\n",
    "    if row[0]==1 and row[1]==1 and row[2]==1 and row[3]==1:\n",
    "        return 1\n",
    "    #elif row[1]==1 and row[2]==1 and row[3]==1 and row[4]==1:\n",
    "     #   return 1\n",
    "    elif row[0]==2 and row[1]==2 and row[2]==2 and row[3]==2:\n",
    "        return 2\n",
    "    #elif row[1]==2 and row[2]==2 and row[3]==2 and row[4]==2:\n",
    "     #   return 2\n",
    "    else:\n",
    "        return 0\n",
    "    "
   ]
  },
  {
   "cell_type": "code",
   "execution_count": 9,
   "metadata": {},
   "outputs": [],
   "source": [
    "#defines what a win is \n",
    "\n",
    "def win_status(board,player):\n",
    "    # in Connect4, after a move, that player can either win or stalemate\n",
    "    # they can't lose after their own move\n",
    "    \n",
    "    if check_four_in_a_row( [board[0],board[1],board[2], board[3] ])==player:\n",
    "        return 'win'\n",
    "    \n",
    "    if check_four_in_a_row( [board[1],board[2],board[3], board[4] ])==player:\n",
    "        return 'win'\n",
    "    \n",
    "    if check_four_in_a_row( [board[5],board[6],board[7], board[8] ])==player:\n",
    "        return 'win'\n",
    "    \n",
    "    if check_four_in_a_row( [board[6],board[7],board[8], board[9] ])==player:\n",
    "        return 'win'\n",
    "    \n",
    "    if check_four_in_a_row( [board[10],board[11],board[12], board[13] ])==player:\n",
    "        return 'win'\n",
    "    \n",
    "    if check_four_in_a_row( [board[11],board[12],board[13], board[14] ])==player:\n",
    "        return 'win'\n",
    "    \n",
    "    if check_four_in_a_row( [board[15],board[16],board[17], board[18] ])==player:\n",
    "        return 'win'\n",
    "    \n",
    "    if check_four_in_a_row( [board[16],board[17],board[18], board[19] ])==player:\n",
    "        return 'win'\n",
    "    \n",
    "    if check_four_in_a_row( [board[0],board[5],board[10], board[15] ])==player:\n",
    "        return 'win'\n",
    "    \n",
    "    if check_four_in_a_row( [board[1],board[6],board[11], board[16] ])==player:\n",
    "        return 'win'\n",
    "    \n",
    "    if check_four_in_a_row( [board[2],board[7],board[12], board[17] ])==player:\n",
    "        return 'win'\n",
    "    \n",
    "    if check_four_in_a_row( [board[3],board[8],board[13], board[18] ])==player:\n",
    "        return 'win'\n",
    "    \n",
    "    if check_four_in_a_row( [board[4],board[9],board[14], board[19] ])==player:\n",
    "        return 'win'\n",
    "    \n",
    "    if check_four_in_a_row( [board[3],board[7],board[11], board[15] ])==player:\n",
    "        return 'win'\n",
    "    \n",
    "    if check_four_in_a_row( [board[4],board[8],board[12], board[16] ])==player:\n",
    "        return 'win'\n",
    "    \n",
    "    if check_four_in_a_row( [board[0],board[6],board[12], board[18] ])==player:\n",
    "        return 'win'\n",
    "    \n",
    "    if check_four_in_a_row( [board[1],board[7],board[13], board[19] ])==player:\n",
    "        return 'win'\n",
    "    #################################################\n",
    "    if check_four_in_a_row( [board[5],board[10],board[15], board[20] ])==player:\n",
    "        return 'win'\n",
    "    if check_four_in_a_row( [board[6],board[11],board[16], board[21] ])==player:\n",
    "        return 'win'\n",
    "    if check_four_in_a_row( [board[7],board[12],board[17], board[22] ])==player:\n",
    "        return 'win'\n",
    "    if check_four_in_a_row( [board[8],board[13],board[18], board[23] ])==player:\n",
    "        return 'win'\n",
    "    if check_four_in_a_row( [board[9],board[14],board[19], board[24] ])==player:\n",
    "        return 'win'\n",
    "    if check_four_in_a_row( [board[20],board[21],board[22], board[23] ])==player:\n",
    "        return 'win'\n",
    "    if check_four_in_a_row( [board[21],board[22],board[23], board[24] ])==player:\n",
    "        return 'win'\n",
    "    if check_four_in_a_row( [board[20],board[16],board[12], board[8] ])==player:\n",
    "        return 'win'\n",
    "    if check_four_in_a_row( [board[21],board[17],board[13], board[19] ])==player:\n",
    "        return 'win'\n",
    "    if check_four_in_a_row( [board[6],board[11],board[17], board[23] ])==player:\n",
    "        return 'win'\n",
    "    if check_four_in_a_row( [board[6],board[12],board[18], board[24] ])==player:\n",
    "        return 'win'\n",
    "    \n",
    "         # stalemate\n",
    "    tie=True\n",
    "    for i in range(5):\n",
    "        if board[i]==0:\n",
    "            tie=False\n",
    "\n",
    "    if tie:\n",
    "        return 'stalemate'\n",
    "\n",
    "\n",
    "\n",
    "    return None\n",
    "\n",
    "\n"
   ]
  },
  {
   "cell_type": "code",
   "execution_count": 10,
   "metadata": {},
   "outputs": [],
   "source": [
    "#updates the state\n",
    "def update_state(state,player,move):\n",
    "    new_state=state\n",
    "    if state[4,move] ==0:\n",
    "        new_state[4,move] = player\n",
    "    elif state[3,move] ==0:\n",
    "        new_state[3,move] = player\n",
    "    elif state[2,move] ==0:\n",
    "        new_state[2,move] = player\n",
    "    elif state[1,move] ==0:\n",
    "        new_state[1,move] = player\n",
    "    elif state[0,move] ==0:\n",
    "        new_state[0,move] = player\n",
    "        return new_state\n",
    "    else:\n",
    "        print(\"Ya cahnt get thaye fram heaya\")\n",
    "        \n",
    "    return state\n"
   ]
  },
  {
   "cell_type": "code",
   "execution_count": 11,
   "metadata": {},
   "outputs": [],
   "source": [
    "#defines how to print the board\n",
    "def print_row(row):\n",
    "\n",
    "    line=''\n",
    "    if row[0]==0:\n",
    "        line=line+'   '\n",
    "    elif row[0]==1:\n",
    "        line=line+' X '\n",
    "    else:\n",
    "        line=line+' O '\n",
    "\n",
    "    line=line+'|'\n",
    "\n",
    "    if row[1]==0:\n",
    "        line=line+'   '\n",
    "    elif row[1]==1:\n",
    "        line=line+' X '\n",
    "    else:\n",
    "        line=line+' O '\n",
    "\n",
    "    line=line+'|'\n",
    "\n",
    "    if row[2]==0:\n",
    "        line=line+'   '\n",
    "    elif row[2]==1:\n",
    "        line=line+' X '\n",
    "    else:\n",
    "        line=line+' O '\n",
    "\n",
    "    line=line+'|'\n",
    "    \n",
    "    if row[3]==0:\n",
    "        line=line+'   '\n",
    "    elif row[3]==1:\n",
    "        line=line+' X '\n",
    "    else:\n",
    "        line=line+' O '\n",
    "    \n",
    "    line=line+'|'\n",
    "    \n",
    "    if row[4]==0:\n",
    "        line=line+'   '\n",
    "    elif row[4]==1:\n",
    "        line=line+' X '\n",
    "    else:\n",
    "        line=line+' O '\n",
    "        \n",
    "\n",
    "    \n",
    "    print (line)"
   ]
  },
  {
   "cell_type": "code",
   "execution_count": 12,
   "metadata": {},
   "outputs": [],
   "source": [
    "#actually prints the board\n",
    "def show_state(board):\n",
    "\n",
    "    print_row( [ board[0],board[1],board[2], board[3], board[4] ])\n",
    "    print (\"---+---+---+---+---\")\n",
    "    print_row( [ board[5],board[6],board[7], board[8], board[9] ])\n",
    "    print (\"---+---+---+---+---\")\n",
    "    print_row( [ board[10],board[11],board[12], board[13], board[14] ])\n",
    "    print (\"---+---+---+---+---\")\n",
    "    print_row( [ board[15],board[16],board[17], board[18], board[19] ])\n",
    "    print (\"---+---+---+---+---\")\n",
    "    print_row( [ board[20],board[21],board[22], board[23], board[24] ])\n",
    "    \n",
    "    print\n"
   ]
  },
  {
   "cell_type": "code",
   "execution_count": 13,
   "metadata": {},
   "outputs": [],
   "source": [
    "#gets a random move\n",
    "def random_move(state,player):\n",
    "\n",
    "    moves=valid_moves(state,player)\n",
    "    return random.choice(moves)"
   ]
  },
  {
   "cell_type": "code",
   "execution_count": 14,
   "metadata": {},
   "outputs": [],
   "source": [
    "#gets a human move\n",
    "def human_move(state,player):\n",
    "    print (\"Player \", player)\n",
    "    valid_move=False\n",
    "    while not valid_move:\n",
    "        move=int(input('What is your move? '))\n",
    "        print (\"Choices:\")\n",
    "        print (\"\"\"\n",
    "         0 | 1 | 2 | 3 | 4\n",
    "        ---+---+---+---+---\n",
    "         0 | 1 | 2 | 3 | 4\n",
    "        ---+---+---+---+---\n",
    "         0 | 1 | 2 | 3 | 4\n",
    "        ---+---+---+---+---\n",
    "         0 | 1 | 2 | 3 | 4\n",
    "        ---+---+---+---+---\n",
    "         0 | 1 | 2 | 3 | 4\n",
    "        \"\"\")\n",
    "        if move in valid_moves(state,player):\n",
    "            valid_move=True\n",
    "        else:\n",
    "            print (\"Illegal move.\")\n",
    "\n",
    "    return move"
   ]
  },
  {
   "cell_type": "code",
   "execution_count": 15,
   "metadata": {},
   "outputs": [],
   "source": [
    "#gets player 2 move\n",
    "def other_human_move(state,player):\n",
    "    print (\"Player \", player)\n",
    "    valid_move=False\n",
    "    while not valid_move:\n",
    "        move=int(input('What is your move? '))\n",
    "\n",
    "        if move in valid_moves(state,player):\n",
    "            valid_move=True\n",
    "        else:\n",
    "            print (\"Illegal move.\")\n",
    "\n",
    "    return move"
   ]
  },
  {
   "cell_type": "code",
   "execution_count": 16,
   "metadata": {},
   "outputs": [],
   "source": [
    "#assignns agents to the move\n",
    "human_agent=Agent(human_move)\n",
    "random_agent=Agent(random_move)\n",
    "other_human_agent=Agent(other_human_move)\n",
    "\n"
   ]
  },
  {
   "cell_type": "code",
   "execution_count": 17,
   "metadata": {},
   "outputs": [
    {
     "ename": "ModuleNotFoundError",
     "evalue": "No module named 'Robot373'",
     "output_type": "error",
     "traceback": [
      "\u001b[1;31m---------------------------------------------------------------------------\u001b[0m",
      "\u001b[1;31mModuleNotFoundError\u001b[0m                       Traceback (most recent call last)",
      "\u001b[1;32m<ipython-input-17-099bc9a14fa9>\u001b[0m in \u001b[0;36m<module>\u001b[1;34m\u001b[0m\n\u001b[0;32m      1\u001b[0m \u001b[1;31m#impletmeents the minimax agent function\u001b[0m\u001b[1;33m\u001b[0m\u001b[1;33m\u001b[0m\u001b[1;33m\u001b[0m\u001b[0m\n\u001b[1;32m----> 2\u001b[1;33m \u001b[1;32mfrom\u001b[0m \u001b[0mRobot373\u001b[0m \u001b[1;32mimport\u001b[0m \u001b[1;33m*\u001b[0m\u001b[1;33m\u001b[0m\u001b[1;33m\u001b[0m\u001b[0m\n\u001b[0m\u001b[0;32m      3\u001b[0m \u001b[0mwheel\u001b[0m\u001b[1;33m=\u001b[0m\u001b[0mMotors\u001b[0m\u001b[1;33m(\u001b[0m\u001b[1;34m\"a\"\u001b[0m\u001b[1;33m)\u001b[0m\u001b[1;33m\u001b[0m\u001b[1;33m\u001b[0m\u001b[0m\n\u001b[0;32m      4\u001b[0m \u001b[0mtracks\u001b[0m\u001b[1;33m=\u001b[0m\u001b[0mMotors\u001b[0m\u001b[1;33m(\u001b[0m\u001b[1;34m\"b\"\u001b[0m\u001b[1;33m)\u001b[0m\u001b[1;33m\u001b[0m\u001b[1;33m\u001b[0m\u001b[0m\n\u001b[0;32m      5\u001b[0m \u001b[1;33m\u001b[0m\u001b[0m\n",
      "\u001b[1;31mModuleNotFoundError\u001b[0m: No module named 'Robot373'"
     ]
    }
   ],
   "source": [
    "#impletmeents the minimax agent function \n",
    "from Robot373 import * \n",
    "wheel=Motors(\"a\")\n",
    "tracks=Motors(\"b\")\n",
    "\n",
    "def minimax_move(state,player):\n",
    "    values,moves=minimax_values(state,player, maxdepth=2)\n",
    "    move = top_choice(moves,values)\n",
    "    if move == 0:\n",
    "        print(\"the move is zero\")\n",
    "        wheel.power= -10\n",
    "        Wait(0)\n",
    "        wheel.power = 0\n",
    "        tracks.power= -10\n",
    "        Wait(1)\n",
    "        tracks.power= 10\n",
    "        Wait(1)\n",
    "        tracks.power= 0\n",
    "        wheel.power= 10\n",
    "        Wait(0)\n",
    "        wheel.power= 0\n",
    "        print(\"move completed\")\n",
    "        \n",
    "    if move == 1:\n",
    "        print(\"the move is one\")\n",
    "        wheel.power=-10\n",
    "        Wait(1)\n",
    "        wheel.power = 0\n",
    "        tracks.power= -10\n",
    "        Wait(1)\n",
    "        tracks.power= 10\n",
    "        Wait(1)\n",
    "        tracks.power= 0\n",
    "        wheel.power= 10\n",
    "        Wait(1)\n",
    "        wheel.power= 0\n",
    "        print(\"move completed\")\n",
    "        \n",
    "    if move ==2:\n",
    "        print(\"the move is two\")\n",
    "        wheel.power=-10\n",
    "        Wait(2)\n",
    "        wheel.power = 0\n",
    "        tracks.power= -10\n",
    "        Wait(1)\n",
    "        tracks.power=10\n",
    "        Wait(1)\n",
    "        tracks.power=0\n",
    "        wheel.power=10\n",
    "        Wait(2)\n",
    "        wheel.power=0\n",
    "        print(\"move completed\")\n",
    "        \n",
    "    if move == 3:\n",
    "        print(\"the move is three\")\n",
    "        wheel.power=-10\n",
    "        Wait(3)\n",
    "        wheel.power = 0\n",
    "        tracks.power= -10\n",
    "        Wait(1)\n",
    "        tracks.power= 10\n",
    "        Wait(1)\n",
    "        tracks.power= 0\n",
    "        wheel.power= 10\n",
    "        Wait(3)\n",
    "        wheel.power= 0\n",
    "        print(\"move completed\")\n",
    "        \n",
    "    if move == 4:\n",
    "        print(\"the move is four\")\n",
    "        wheel.power=-10\n",
    "        Wait(4)\n",
    "        wheel.power = 0\n",
    "        tracks.power= -10\n",
    "        Wait(1)\n",
    "        tracks.power=10\n",
    "        Wait(1)\n",
    "        tracks.power=0\n",
    "        wheel.power=10\n",
    "        Wait(4)\n",
    "        wheel.power=0\n",
    "        print(\"move completed\")\n",
    "        \n",
    "    print(\"Minimax moves\", move)\n",
    "    return move\n",
    "    #return top_choice(moves,values)\n",
    "\n",
    "minimax_agent=Agent(minimax_move)"
   ]
  },
  {
   "cell_type": "code",
   "execution_count": 18,
   "metadata": {},
   "outputs": [
    {
     "ename": "NameError",
     "evalue": "name 'minimax_agent' is not defined",
     "output_type": "error",
     "traceback": [
      "\u001b[1;31m---------------------------------------------------------------------------\u001b[0m",
      "\u001b[1;31mNameError\u001b[0m                                 Traceback (most recent call last)",
      "\u001b[1;32m<ipython-input-18-fa4983bebaab>\u001b[0m in \u001b[0;36m<module>\u001b[1;34m\u001b[0m\n\u001b[0;32m      1\u001b[0m \u001b[1;31m#runs the game\u001b[0m\u001b[1;33m\u001b[0m\u001b[1;33m\u001b[0m\u001b[1;33m\u001b[0m\u001b[0m\n\u001b[0;32m      2\u001b[0m \u001b[0mg\u001b[0m\u001b[1;33m=\u001b[0m\u001b[0mGame\u001b[0m\u001b[1;33m(\u001b[0m\u001b[1;33m)\u001b[0m\u001b[1;33m\u001b[0m\u001b[1;33m\u001b[0m\u001b[0m\n\u001b[1;32m----> 3\u001b[1;33m \u001b[0mwins\u001b[0m\u001b[1;33m=\u001b[0m\u001b[0mg\u001b[0m\u001b[1;33m.\u001b[0m\u001b[0mrun\u001b[0m\u001b[1;33m(\u001b[0m\u001b[0mminimax_agent\u001b[0m\u001b[1;33m,\u001b[0m \u001b[0mhuman_agent\u001b[0m\u001b[1;33m)\u001b[0m\u001b[1;33m\u001b[0m\u001b[1;33m\u001b[0m\u001b[0m\n\u001b[0m\u001b[0;32m      4\u001b[0m \u001b[0mg\u001b[0m\u001b[1;33m.\u001b[0m\u001b[0mreport\u001b[0m\u001b[1;33m(\u001b[0m\u001b[1;33m)\u001b[0m\u001b[1;33m\u001b[0m\u001b[1;33m\u001b[0m\u001b[0m\n",
      "\u001b[1;31mNameError\u001b[0m: name 'minimax_agent' is not defined"
     ]
    }
   ],
   "source": [
    "#runs the game\n",
    "g=Game()\n",
    "wins=g.run(minimax_agent, human_agent)\n",
    "g.report()"
   ]
  },
  {
   "cell_type": "code",
   "execution_count": 19,
   "metadata": {},
   "outputs": [],
   "source": []
  },
  {
   "cell_type": "code",
   "execution_count": null,
   "metadata": {},
   "outputs": [],
   "source": []
  },
  {
   "cell_type": "code",
   "execution_count": 82,
   "metadata": {},
   "outputs": [],
   "source": []
  },
  {
   "cell_type": "code",
   "execution_count": 31,
   "metadata": {},
   "outputs": [],
   "source": []
  },
  {
   "cell_type": "code",
   "execution_count": null,
   "metadata": {},
   "outputs": [],
   "source": []
  },
  {
   "cell_type": "code",
   "execution_count": null,
   "metadata": {},
   "outputs": [],
   "source": []
  },
  {
   "cell_type": "code",
   "execution_count": null,
   "metadata": {},
   "outputs": [],
   "source": []
  },
  {
   "cell_type": "code",
   "execution_count": null,
   "metadata": {},
   "outputs": [],
   "source": []
  }
 ],
 "metadata": {
  "kernelspec": {
   "display_name": "Python 3",
   "language": "python",
   "name": "python3"
  },
  "language_info": {
   "codemirror_mode": {
    "name": "ipython",
    "version": 3
   },
   "file_extension": ".py",
   "mimetype": "text/x-python",
   "name": "python",
   "nbconvert_exporter": "python",
   "pygments_lexer": "ipython3",
   "version": "3.7.1"
  }
 },
 "nbformat": 4,
 "nbformat_minor": 2
}
